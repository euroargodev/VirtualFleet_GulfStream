{
 "cells": [
  {
   "cell_type": "code",
   "execution_count": 1,
   "id": "0b40cd6c-2b3d-4b40-9940-57270ecf707e",
   "metadata": {},
   "outputs": [],
   "source": [
    "import os\n",
    "import sys\n",
    "sys.path.insert(0, \"/Users/gmaze/git/github/euroargodev/VirtualFleet\")\n",
    "from virtualargofleet import FloatConfiguration\n",
    "\n",
    "output_dir = \"/Users/gmaze/git/github/euroargodev/VirtualFleet_GulfStream/data\""
   ]
  },
  {
   "cell_type": "code",
   "execution_count": 2,
   "id": "74364334-ab0f-4b50-a8c3-169ffe1ca2ee",
   "metadata": {},
   "outputs": [],
   "source": [
    "# Default Argo floats configuration:\n",
    "cfg = FloatConfiguration('default')\n",
    "cfg.update('life_expectancy', 300)\n",
    "cfg.to_json(os.path.join(output_dir, \"vf-floatcfg-%s-%s.json\" % (cfg.name, \"N300\")))"
   ]
  },
  {
   "cell_type": "markdown",
   "id": "f70fbb94-bb5a-4991-ba80-8a31782bf5f5",
   "metadata": {},
   "source": [
    "***"
   ]
  },
  {
   "cell_type": "code",
   "execution_count": 3,
   "id": "0f1b26b5-a2bd-4842-947f-5b53f20dc022",
   "metadata": {},
   "outputs": [],
   "source": [
    "# 5-days, 1000m drift, my definition of the GSE:\n",
    "cfg = FloatConfiguration('gse-experiment')\n",
    "cfg.update('life_expectancy', 300)\n",
    "cfg.to_json(os.path.join(output_dir, \"vf-floatcfg-%s-%s.json\" % (cfg.name, \"N300-5days\")))"
   ]
  },
  {
   "cell_type": "code",
   "execution_count": 13,
   "id": "be276754-042c-4082-a3ba-2e899ba3b00b",
   "metadata": {},
   "outputs": [],
   "source": [
    "# 5-days, 500m drift, my definition of the GSE:\n",
    "cfg = FloatConfiguration('gse-experiment')\n",
    "cfg.update('life_expectancy', 300)\n",
    "cfg.update('area_parking_depth', 500.)\n",
    "cfg.to_json(os.path.join(output_dir, \"vf-floatcfg-%s-%s.json\" % (cfg.name, \"N300-5days-500drift\")))"
   ]
  },
  {
   "cell_type": "code",
   "execution_count": 4,
   "id": "643a7f28-a853-4d35-89f5-e2e5db30dc6d",
   "metadata": {},
   "outputs": [],
   "source": [
    "# 5-days, 1500m drift, my definition of the GSE:\n",
    "cfg = FloatConfiguration('gse-experiment')\n",
    "cfg.update('life_expectancy', 300)\n",
    "cfg.update('area_parking_depth', 1500.)\n",
    "cfg.to_json(os.path.join(output_dir, \"vf-floatcfg-%s-%s.json\" % (cfg.name, \"N300-5days-1500drift\")))"
   ]
  },
  {
   "cell_type": "code",
   "execution_count": 5,
   "id": "45fc82b8-978b-444e-83e0-1ec2863bdda5",
   "metadata": {},
   "outputs": [],
   "source": [
    "# 10-days, 1500m drift, my definition of the GSE:\n",
    "cfg = FloatConfiguration('gse-experiment')\n",
    "cfg.update('life_expectancy', 300)\n",
    "cfg.update('area_cycle_duration', 10 * 24)\n",
    "cfg.update('area_parking_depth', 1500.)\n",
    "cfg.to_json(os.path.join(output_dir, \"vf-floatcfg-%s-%s.json\" % (cfg.name, \"N300-10days-1500drift\")))"
   ]
  },
  {
   "cell_type": "markdown",
   "id": "5d80713b-03d7-40a8-b139-23edbff22864",
   "metadata": {},
   "source": [
    "***"
   ]
  },
  {
   "cell_type": "code",
   "execution_count": 6,
   "id": "da90ba73-db09-481e-bcb0-9d0fde77045c",
   "metadata": {},
   "outputs": [],
   "source": [
    "# 5-days, 1000m drift, AST-definition of the GSE:\n",
    "cfg = FloatConfiguration('gse-experiment')\n",
    "cfg.update('life_expectancy', 300)\n",
    "cfg.update('area_xmin', -75.)\n",
    "cfg.update('area_xmax', -30.)\n",
    "cfg.update('area_ymin', 36.)\n",
    "cfg.update('area_ymax', 51.)\n",
    "cfg.to_json(os.path.join(output_dir, \"vf-floatcfg-%s-%s.json\" % (cfg.name, \"N300-5days-ASTdef\")))"
   ]
  },
  {
   "cell_type": "code",
   "execution_count": 7,
   "id": "ada78198-9ac1-4ac8-8577-3c5cb5622f50",
   "metadata": {},
   "outputs": [],
   "source": [
    "# 5 days, 1500m drift, AST-definition of the GSE:\n",
    "cfg = FloatConfiguration('gse-experiment')\n",
    "cfg.update('life_expectancy', 300)\n",
    "cfg.update('area_cycle_duration', 5 * 24)\n",
    "cfg.update('area_parking_depth', 1500.)\n",
    "cfg.update('area_xmin', -75.)\n",
    "cfg.update('area_xmax', -30.)\n",
    "cfg.update('area_ymin', 36.)\n",
    "cfg.update('area_ymax', 51.)\n",
    "cfg.to_json(os.path.join(output_dir, \"vf-floatcfg-%s-%s.json\" % (cfg.name, \"N300-5days-1500drift-ASTdef\")))"
   ]
  },
  {
   "cell_type": "code",
   "execution_count": 8,
   "id": "191613a3-0bae-4759-b3b8-4eac0fdc9528",
   "metadata": {},
   "outputs": [],
   "source": [
    "# 10 days, 1500m drift, AST-definition of the GSE:\n",
    "cfg = FloatConfiguration('gse-experiment')\n",
    "cfg.update('life_expectancy', 300)\n",
    "cfg.update('area_cycle_duration', 10 * 24)\n",
    "cfg.update('area_parking_depth', 1500.)\n",
    "cfg.update('area_xmin', -75.)\n",
    "cfg.update('area_xmax', -30.)\n",
    "cfg.update('area_ymin', 36.)\n",
    "cfg.update('area_ymax', 51.)\n",
    "cfg.to_json(os.path.join(output_dir, \"vf-floatcfg-%s-%s.json\" % (cfg.name, \"N300-10days-1500drift-ASTdef\")))"
   ]
  },
  {
   "cell_type": "markdown",
   "id": "36af5afb-f249-4fce-8940-964108e8eac5",
   "metadata": {},
   "source": [
    "***"
   ]
  },
  {
   "cell_type": "code",
   "execution_count": 9,
   "id": "bda4d3ac-4034-4a10-942c-4e965091d0c0",
   "metadata": {},
   "outputs": [],
   "source": [
    "# 5-days, 1000m drift, Extended default GSE:\n",
    "cfg = FloatConfiguration('gse-experiment')\n",
    "cfg.update('life_expectancy', 300)\n",
    "cfg.update('area_xmax', -35.)\n",
    "cfg.to_json(os.path.join(output_dir, \"vf-floatcfg-%s-%s.json\" % (cfg.name, \"N300-5days-GSEext\")))"
   ]
  },
  {
   "cell_type": "code",
   "execution_count": 10,
   "id": "c8639694-2393-4384-9e4f-96bd7e03a1c6",
   "metadata": {},
   "outputs": [],
   "source": [
    "# 5-days, 1500m drift, Extended default GSE:\n",
    "cfg = FloatConfiguration('gse-experiment')\n",
    "cfg.update('life_expectancy', 300)\n",
    "cfg.update('area_parking_depth', 1500.)\n",
    "cfg.update('area_xmax', -35.)\n",
    "cfg.to_json(os.path.join(output_dir, \"vf-floatcfg-%s-%s.json\" % (cfg.name, \"N300-5days-1500drift-GSEext\")))"
   ]
  },
  {
   "cell_type": "code",
   "execution_count": 11,
   "id": "380c3108-b42c-4f5a-8aaf-e71c08dce8e7",
   "metadata": {},
   "outputs": [],
   "source": [
    "# 10-days, 1500m drift, Extended default GSE:\n",
    "cfg = FloatConfiguration('gse-experiment')\n",
    "cfg.update('life_expectancy', 300)\n",
    "cfg.update('area_cycle_duration', 10 * 24)\n",
    "cfg.update('area_parking_depth', 1500.)\n",
    "cfg.update('area_xmax', -35.)\n",
    "cfg.to_json(os.path.join(output_dir, \"vf-floatcfg-%s-%s.json\" % (cfg.name, \"N300-10days-1500drift-GSEext\")))"
   ]
  },
  {
   "cell_type": "markdown",
   "id": "7e03e692-3ca2-46fd-b2a2-632656747e02",
   "metadata": {},
   "source": [
    "***"
   ]
  },
  {
   "cell_type": "markdown",
   "id": "d313f32b-d9e0-46cf-b228-0cecb25d5ce6",
   "metadata": {},
   "source": [
    "***"
   ]
  },
  {
   "cell_type": "code",
   "execution_count": 12,
   "id": "bc7f60f7-4350-428c-b927-940d9ee6ab4a",
   "metadata": {},
   "outputs": [
    {
     "ename": "NameError",
     "evalue": "name 'stophere' is not defined",
     "output_type": "error",
     "traceback": [
      "\u001b[0;31m---------------------------------------------------------------------------\u001b[0m",
      "\u001b[0;31mNameError\u001b[0m                                 Traceback (most recent call last)",
      "Input \u001b[0;32mIn [12]\u001b[0m, in \u001b[0;36m<cell line: 1>\u001b[0;34m()\u001b[0m\n\u001b[0;32m----> 1\u001b[0m \u001b[43mstophere\u001b[49m\n",
      "\u001b[0;31mNameError\u001b[0m: name 'stophere' is not defined"
     ]
    }
   ],
   "source": [
    "stophere"
   ]
  },
  {
   "cell_type": "code",
   "execution_count": null,
   "id": "507c6150-a015-4ac0-9105-ce50a2258ecc",
   "metadata": {},
   "outputs": [],
   "source": [
    "cfg_default = FloatConfiguration(cfg.name) # Load the default config\n",
    "for p in cfg.params:\n",
    "    if p in cfg_default.params and cfg.mission[p] != cfg_default.mission[p]:\n",
    "        print('modified', p, cfg.mission[p])\n",
    "    elif p not in cfg_default.params:\n",
    "        print('new', p, cfg.mission[p])"
   ]
  },
  {
   "cell_type": "code",
   "execution_count": null,
   "id": "85844550-c431-4bc5-8cfa-cd3e28fb80e6",
   "metadata": {},
   "outputs": [],
   "source": [
    "cfg_default.mission[p]"
   ]
  },
  {
   "cell_type": "code",
   "execution_count": null,
   "id": "086f644a-02ff-493a-a787-4facf4cdec35",
   "metadata": {},
   "outputs": [],
   "source": []
  }
 ],
 "metadata": {
  "kernelspec": {
   "display_name": "virtualfleet",
   "language": "python",
   "name": "virtualfleet"
  },
  "language_info": {
   "codemirror_mode": {
    "name": "ipython",
    "version": 3
   },
   "file_extension": ".py",
   "mimetype": "text/x-python",
   "name": "python",
   "nbconvert_exporter": "python",
   "pygments_lexer": "ipython3",
   "version": "3.8.13"
  },
  "widgets": {
   "application/vnd.jupyter.widget-state+json": {
    "state": {},
    "version_major": 2,
    "version_minor": 0
   }
  }
 },
 "nbformat": 4,
 "nbformat_minor": 5
}
